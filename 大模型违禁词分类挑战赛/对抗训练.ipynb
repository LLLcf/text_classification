{
 "cells": [
  {
   "cell_type": "code",
   "execution_count": 1,
   "id": "4f66ca26-42a2-438c-9084-9ff66bb18675",
   "metadata": {
    "execution": {
     "iopub.execute_input": "2025-08-06T08:09:42.350763Z",
     "iopub.status.busy": "2025-08-06T08:09:42.350410Z",
     "iopub.status.idle": "2025-08-06T08:09:47.551565Z",
     "shell.execute_reply": "2025-08-06T08:09:47.550994Z",
     "shell.execute_reply.started": "2025-08-06T08:09:42.350736Z"
    },
    "tags": []
   },
   "outputs": [
    {
     "name": "stdout",
     "output_type": "stream",
     "text": [
      "Looking in indexes: https://mirrors.tencent.com/pypi/simple/\n",
      "Requirement already satisfied: pandas in /root/miniconda/envs/nlp_env/lib/python3.11/site-packages (2.3.1)\n",
      "Requirement already satisfied: numpy in /root/miniconda/envs/nlp_env/lib/python3.11/site-packages (2.3.2)\n",
      "Requirement already satisfied: transformers in /root/miniconda/envs/nlp_env/lib/python3.11/site-packages (4.55.0)\n",
      "Requirement already satisfied: scikit-learn in /root/miniconda/envs/nlp_env/lib/python3.11/site-packages (1.7.1)\n",
      "Requirement already satisfied: tqdm in /root/miniconda/envs/nlp_env/lib/python3.11/site-packages (4.67.1)\n",
      "Requirement already satisfied: python-dateutil>=2.8.2 in /root/miniconda/envs/nlp_env/lib/python3.11/site-packages (from pandas) (2.9.0.post0)\n",
      "Requirement already satisfied: pytz>=2020.1 in /root/miniconda/envs/nlp_env/lib/python3.11/site-packages (from pandas) (2025.2)\n",
      "Requirement already satisfied: tzdata>=2022.7 in /root/miniconda/envs/nlp_env/lib/python3.11/site-packages (from pandas) (2025.2)\n",
      "Requirement already satisfied: filelock in /root/miniconda/envs/nlp_env/lib/python3.11/site-packages (from transformers) (3.18.0)\n",
      "Requirement already satisfied: huggingface-hub<1.0,>=0.34.0 in /root/miniconda/envs/nlp_env/lib/python3.11/site-packages (from transformers) (0.34.3)\n",
      "Requirement already satisfied: packaging>=20.0 in /root/miniconda/envs/nlp_env/lib/python3.11/site-packages (from transformers) (25.0)\n",
      "Requirement already satisfied: pyyaml>=5.1 in /root/miniconda/envs/nlp_env/lib/python3.11/site-packages (from transformers) (6.0.2)\n",
      "Requirement already satisfied: regex!=2019.12.17 in /root/miniconda/envs/nlp_env/lib/python3.11/site-packages (from transformers) (2025.7.34)\n",
      "Requirement already satisfied: requests in /root/miniconda/envs/nlp_env/lib/python3.11/site-packages (from transformers) (2.32.4)\n",
      "Requirement already satisfied: tokenizers<0.22,>=0.21 in /root/miniconda/envs/nlp_env/lib/python3.11/site-packages (from transformers) (0.21.4)\n",
      "Requirement already satisfied: safetensors>=0.4.3 in /root/miniconda/envs/nlp_env/lib/python3.11/site-packages (from transformers) (0.5.3)\n",
      "Requirement already satisfied: fsspec>=2023.5.0 in /root/miniconda/envs/nlp_env/lib/python3.11/site-packages (from huggingface-hub<1.0,>=0.34.0->transformers) (2025.7.0)\n",
      "Requirement already satisfied: typing-extensions>=3.7.4.3 in /root/miniconda/envs/nlp_env/lib/python3.11/site-packages (from huggingface-hub<1.0,>=0.34.0->transformers) (4.14.1)\n",
      "Requirement already satisfied: hf-xet<2.0.0,>=1.1.3 in /root/miniconda/envs/nlp_env/lib/python3.11/site-packages (from huggingface-hub<1.0,>=0.34.0->transformers) (1.1.7)\n",
      "Requirement already satisfied: scipy>=1.8.0 in /root/miniconda/envs/nlp_env/lib/python3.11/site-packages (from scikit-learn) (1.16.1)\n",
      "Requirement already satisfied: joblib>=1.2.0 in /root/miniconda/envs/nlp_env/lib/python3.11/site-packages (from scikit-learn) (1.5.1)\n",
      "Requirement already satisfied: threadpoolctl>=3.1.0 in /root/miniconda/envs/nlp_env/lib/python3.11/site-packages (from scikit-learn) (3.6.0)\n",
      "Requirement already satisfied: six>=1.5 in /root/miniconda/envs/nlp_env/lib/python3.11/site-packages (from python-dateutil>=2.8.2->pandas) (1.17.0)\n",
      "Requirement already satisfied: charset_normalizer<4,>=2 in /root/miniconda/envs/nlp_env/lib/python3.11/site-packages (from requests->transformers) (3.4.2)\n",
      "Requirement already satisfied: idna<4,>=2.5 in /root/miniconda/envs/nlp_env/lib/python3.11/site-packages (from requests->transformers) (3.10)\n",
      "Requirement already satisfied: urllib3<3,>=1.21.1 in /root/miniconda/envs/nlp_env/lib/python3.11/site-packages (from requests->transformers) (2.5.0)\n",
      "Requirement already satisfied: certifi>=2017.4.17 in /root/miniconda/envs/nlp_env/lib/python3.11/site-packages (from requests->transformers) (2025.8.3)\n",
      "\u001b[33mWARNING: Running pip as the 'root' user can result in broken permissions and conflicting behaviour with the system package manager, possibly rendering your system unusable. It is recommended to use a virtual environment instead: https://pip.pypa.io/warnings/venv. Use the --root-user-action option if you know what you are doing and want to suppress this warning.\u001b[0m\u001b[33m\n",
      "\u001b[0mNote: you may need to restart the kernel to use updated packages.\n"
     ]
    }
   ],
   "source": [
    "pip install pandas numpy transformers scikit-learn tqdm"
   ]
  },
  {
   "cell_type": "code",
   "execution_count": 11,
   "id": "f26d9255-322f-4ab2-b347-36987a29ca17",
   "metadata": {
    "ExecutionIndicator": {
     "show": false
    },
    "execution": {
     "iopub.execute_input": "2025-08-06T08:09:47.552653Z",
     "iopub.status.busy": "2025-08-06T08:09:47.552393Z",
     "iopub.status.idle": "2025-08-06T08:09:52.434261Z",
     "shell.execute_reply": "2025-08-06T08:09:52.433783Z",
     "shell.execute_reply.started": "2025-08-06T08:09:47.552634Z"
    },
    "tags": []
   },
   "outputs": [],
   "source": [
    "import torch\n",
    "import torch.nn as nn\n",
    "import torch.nn.functional as F\n",
    "from torch.utils.data import Dataset, DataLoader\n",
    "import torch.optim as optim\n",
    "from transformers import BertTokenizer, BertModel, get_linear_schedule_with_warmup, get_cosine_schedule_with_warmup\n",
    "from sklearn.metrics import accuracy_score, classification_report\n",
    "from sklearn.metrics import f1_score\n",
    "from sklearn.model_selection import train_test_split\n",
    "from sklearn.utils.class_weight import compute_class_weight\n",
    "import numpy as np\n",
    "import pandas as pd\n",
    "from tqdm import tqdm\n",
    "import random\n",
    "import os"
   ]
  },
  {
   "cell_type": "code",
   "execution_count": 12,
   "id": "1423d36d-0e50-45c7-97e2-010e564af9b6",
   "metadata": {
    "ExecutionIndicator": {
     "show": false
    },
    "execution": {
     "iopub.execute_input": "2025-08-06T08:09:52.435128Z",
     "iopub.status.busy": "2025-08-06T08:09:52.434798Z",
     "iopub.status.idle": "2025-08-06T08:09:52.441551Z",
     "shell.execute_reply": "2025-08-06T08:09:52.441164Z",
     "shell.execute_reply.started": "2025-08-06T08:09:52.435113Z"
    },
    "tags": []
   },
   "outputs": [
    {
     "name": "stdout",
     "output_type": "stream",
     "text": [
      "已释放 PyTorch CUDA 缓存\n"
     ]
    }
   ],
   "source": [
    "def seed_everything(seed):\n",
    "    torch.manual_seed(seed)\n",
    "    torch.cuda.manual_seed(seed)\n",
    "    torch.cuda.manual_seed_all(seed)\n",
    "    torch.backends.cudnn.benchmark = False\n",
    "    torch.backends.cudnn.deterministic = True\n",
    "    random.seed(seed)\n",
    "    np.random.seed(seed)\n",
    "    os.environ['PYTHONHASHSEED'] = str(seed)\n",
    "\n",
    "if torch.cuda.is_available():\n",
    "    torch.cuda.empty_cache()\n",
    "    print(\"已释放 PyTorch CUDA 缓存\")\n",
    "\n",
    "seed_everything(seed=2025)"
   ]
  },
  {
   "cell_type": "code",
   "execution_count": 8,
   "id": "02a93ecf-06ce-4bd1-8748-aac0ab9c6b5a",
   "metadata": {
    "ExecutionIndicator": {
     "show": false
    },
    "execution": {
     "iopub.execute_input": "2025-08-06T08:09:52.442627Z",
     "iopub.status.busy": "2025-08-06T08:09:52.442394Z",
     "iopub.status.idle": "2025-08-06T08:09:52.972756Z",
     "shell.execute_reply": "2025-08-06T08:09:52.969179Z",
     "shell.execute_reply.started": "2025-08-06T08:09:52.442613Z"
    },
    "tags": []
   },
   "outputs": [],
   "source": [
    "data = pd.read_csv('dataset/train_all.csv')"
   ]
  },
  {
   "cell_type": "code",
   "execution_count": 13,
   "id": "180bf47b-0e5c-4efc-8a56-51b62bcdd689",
   "metadata": {
    "ExecutionIndicator": {
     "show": false
    },
    "execution": {
     "iopub.status.busy": "2025-08-06T08:09:52.973401Z",
     "iopub.status.idle": "2025-08-06T08:09:52.973672Z",
     "shell.execute_reply": "2025-08-06T08:09:52.973556Z",
     "shell.execute_reply.started": "2025-08-06T08:09:52.973545Z"
    },
    "tags": []
   },
   "outputs": [],
   "source": [
    "def get_label(data):\n",
    "    unique_labels = sorted(data['类别'].unique())\n",
    "    label_to_id = {label: idx for idx, label in enumerate(unique_labels)}\n",
    "    id_to_label = {idx: label for label, idx in label_to_id.items()}\n",
    "    data['label'] = data['类别'].map(label_to_id)\n",
    "\n",
    "    return label_to_id, id_to_label, data\n",
    "\n",
    "label_to_id,id_to_label, data = get_label(data)"
   ]
  },
  {
   "cell_type": "code",
   "execution_count": 14,
   "id": "68db3c0e-542f-47a2-8af7-ee87e4838018",
   "metadata": {
    "ExecutionIndicator": {
     "show": false
    },
    "execution": {
     "iopub.status.busy": "2025-08-06T08:09:52.974644Z",
     "iopub.status.idle": "2025-08-06T08:09:52.974889Z",
     "shell.execute_reply": "2025-08-06T08:09:52.974771Z",
     "shell.execute_reply.started": "2025-08-06T08:09:52.974762Z"
    },
    "tags": []
   },
   "outputs": [],
   "source": [
    "class TextClassificationDataset(Dataset):\n",
    "    def __init__(self, texts, labels, tokenizer, max_length=512):\n",
    "        self.texts = texts\n",
    "        self.labels = labels\n",
    "        self.tokenizer = tokenizer\n",
    "        self.max_length = max_length\n",
    "\n",
    "    def __len__(self):\n",
    "        return len(self.texts)\n",
    "\n",
    "    def __getitem__(self, idx):\n",
    "        text = str(self.texts[idx])\n",
    "        label = self.labels[idx]\n",
    "        encoding = self.tokenizer(\n",
    "            text,\n",
    "            truncation=True,\n",
    "            padding='max_length',\n",
    "            max_length=self.max_length,\n",
    "            return_tensors='pt'\n",
    "        )\n",
    "\n",
    "        return {\n",
    "            'input_ids': encoding['input_ids'].flatten(),\n",
    "            'attention_mask': encoding['attention_mask'].flatten(),\n",
    "            'token_type_ids': encoding['token_type_ids'].flatten(),\n",
    "            'labels': torch.tensor(label, dtype=torch.long)\n",
    "        }"
   ]
  },
  {
   "cell_type": "code",
   "execution_count": null,
   "id": "58e8314a",
   "metadata": {},
   "outputs": [],
   "source": [
    "class Lookahead(Optimizer):\n",
    "    def __init__(self, optimizer, k=5, alpha=0.5):\n",
    "        self.optimizer = optimizer\n",
    "        self.k = k\n",
    "        self.alpha = alpha\n",
    "        self.param_groups = self.optimizer.param_groups\n",
    "        self.state = defaultdict(dict)\n",
    "        self.fast_state = self.optimizer.state\n",
    "        for group in self.param_groups:\n",
    "            group[\"counter\"] = 0\n",
    "\n",
    "    def update(self, group):\n",
    "        for fast in group[\"params\"]:\n",
    "            param_state = self.state[fast]\n",
    "            if \"slow_param\" not in param_state:\n",
    "                param_state[\"slow_param\"] = torch.zeros_like(fast.data)\n",
    "                param_state[\"slow_param\"].copy_(fast.data)\n",
    "            slow = param_state[\"slow_param\"]\n",
    "            slow += (fast.data - slow) * self.alpha\n",
    "            fast.data.copy_(slow)\n",
    "\n",
    "    def update_lookahead(self):\n",
    "        for group in self.param_groups:\n",
    "            self.update(group)\n",
    "\n",
    "    def step(self, closure=None):\n",
    "        loss = self.optimizer.step(closure)\n",
    "        for group in self.param_groups:\n",
    "            if group[\"counter\"] == 0:\n",
    "                self.update(group)\n",
    "            group[\"counter\"] += 1\n",
    "            if group[\"counter\"] >= self.k:\n",
    "                group[\"counter\"] = 0\n",
    "        return loss\n",
    "\n",
    "    def state_dict(self):\n",
    "        fast_state_dict = self.optimizer.state_dict()\n",
    "        slow_state = {\n",
    "            (id(k) if isinstance(k, torch.Tensor) else k): v\n",
    "            for k, v in self.state.items()\n",
    "        }\n",
    "        fast_state = fast_state_dict[\"state\"]\n",
    "        param_groups = fast_state_dict[\"param_groups\"]\n",
    "        return {\n",
    "            \"fast_state\": fast_state,\n",
    "            \"slow_state\": slow_state,\n",
    "            \"param_groups\": param_groups,\n",
    "        }\n",
    "\n",
    "    def load_state_dict(self, state_dict):\n",
    "        slow_state_dict = {\n",
    "            \"state\": state_dict[\"slow_state\"],\n",
    "            \"param_groups\": state_dict[\"param_groups\"],\n",
    "        }\n",
    "        fast_state_dict = {\n",
    "            \"state\": state_dict[\"fast_state\"],\n",
    "            \"param_groups\": state_dict[\"param_groups\"],\n",
    "        }\n",
    "        super(Lookahead, self).load_state_dict(slow_state_dict)\n",
    "        self.optimizer.load_state_dict(fast_state_dict)\n",
    "        self.fast_state = self.optimizer.state\n",
    "\n",
    "    def add_param_group(self, param_group):\n",
    "        param_group[\"counter\"] = 0\n",
    "        self.optimizer.add_param_group(param_group)"
   ]
  },
  {
   "cell_type": "code",
   "execution_count": 21,
   "id": "6ebb2b8d-4e65-4333-9044-f761d1a695fc",
   "metadata": {
    "ExecutionIndicator": {
     "show": false
    },
    "execution": {
     "iopub.status.busy": "2025-08-06T08:09:52.975787Z",
     "iopub.status.idle": "2025-08-06T08:09:52.976058Z",
     "shell.execute_reply": "2025-08-06T08:09:52.975947Z",
     "shell.execute_reply.started": "2025-08-06T08:09:52.975936Z"
    },
    "tags": []
   },
   "outputs": [],
   "source": [
    "# class BertForSequenceClassification(nn.Module):\n",
    "#     def __init__(self, bert_model_name, num_labels=10, dropout=0.1):\n",
    "#         super(BertForSequenceClassification, self).__init__()\n",
    "#         self.num_labels = num_labels\n",
    "#         self.bert = BertModel.from_pretrained(bert_model_name)\n",
    "#         self.dropout = nn.Dropout(dropout)\n",
    "#         self.hidden_size = self.bert.config.hidden_size\n",
    "#         self.classifier = nn.Linear(self.hidden_size, num_labels)\n",
    "\n",
    "#     def forward(self, input_ids, attention_mask, token_type_ids):\n",
    "#         outputs = self.bert(\n",
    "#             input_ids=input_ids,\n",
    "#             attention_mask=attention_mask,\n",
    "#             token_type_ids=token_type_ids,\n",
    "#             return_dict=False\n",
    "#         )\n",
    "#         pooled_output = outputs[1]\n",
    "#         pooled_output = self.dropout(pooled_output)\n",
    "#         logits = self.classifier(pooled_output)\n",
    "\n",
    "#         return logits\n",
    "\n",
    "class BertForSequenceClassification(nn.Module):\n",
    "    def __init__(self, bert_model_name, num_labels=10, dropout=0.1):\n",
    "        super(BertForSequenceClassification, self).__init__()\n",
    "        self.num_labels = num_labels\n",
    "        self.bert = BertModel.from_pretrained(bert_model_name, output_hidden_states=True)\n",
    "        self.dropout = nn.Dropout(dropout)\n",
    "        self.hidden_size = self.bert.config.hidden_size\n",
    "        self.classifier = nn.Linear(self.hidden_size * 5, num_labels)\n",
    "\n",
    "    def forward(self, input_ids, attention_mask, token_type_ids):\n",
    "        outputs = self.bert(\n",
    "            input_ids=input_ids,\n",
    "            attention_mask=attention_mask,\n",
    "            token_type_ids=token_type_ids,\n",
    "            return_dict=False\n",
    "        )\n",
    "\n",
    "        last_hidden_state = outputs[0]\n",
    "        pooled_output = outputs[1]\n",
    "        hidden_states = outputs[2]\n",
    "\n",
    "        cls_list = []\n",
    "        for i in range(-1, -6, -1):\n",
    "            cls_output = hidden_states[i][:, 0, :]\n",
    "            cls_list.append(cls_output)\n",
    "\n",
    "        last_hidden = torch.cat(cls_list, dim=1)\n",
    "        last_hidden = self.dropout(last_hidden)\n",
    "        logits = self.classifier(last_hidden)\n",
    "\n",
    "        return logits"
   ]
  },
  {
   "cell_type": "code",
   "execution_count": 22,
   "id": "eee6e14f-7536-42bc-b7d5-c3f1b565373b",
   "metadata": {
    "ExecutionIndicator": {
     "show": false
    },
    "execution": {
     "iopub.status.busy": "2025-08-06T08:09:52.977126Z",
     "iopub.status.idle": "2025-08-06T08:09:52.977383Z",
     "shell.execute_reply": "2025-08-06T08:09:52.977281Z",
     "shell.execute_reply.started": "2025-08-06T08:09:52.977271Z"
    },
    "tags": []
   },
   "outputs": [],
   "source": [
    "class FGM():\n",
    "    def __init__(self, model):\n",
    "        self.model = model\n",
    "        self.backup = {}\n",
    "\n",
    "    def attack(self, epsilon=1., emb_name='word_embeddings'):\n",
    "        for name, param in self.model.named_parameters():\n",
    "            if param.requires_grad and emb_name in name:\n",
    "                self.backup[name] = param.data.clone()\n",
    "                norm = torch.norm(param.grad)\n",
    "                if norm != 0 and not torch.isnan(norm):\n",
    "                    r_at = epsilon * param.grad / norm\n",
    "                    param.data.add_(r_at)\n",
    "\n",
    "    def restore(self, emb_name='word_embeddings'):\n",
    "        for name, param in self.model.named_parameters():\n",
    "            if param.requires_grad and emb_name in name:\n",
    "                assert name in self.backup\n",
    "                param.data = self.backup[name]\n",
    "        self.backup = {}"
   ]
  },
  {
   "cell_type": "code",
   "execution_count": 23,
   "id": "8575aaf4-7ab4-415b-8542-363c358f442d",
   "metadata": {
    "ExecutionIndicator": {
     "show": false
    },
    "execution": {
     "iopub.status.busy": "2025-08-06T08:09:52.978156Z",
     "iopub.status.idle": "2025-08-06T08:09:52.978369Z",
     "shell.execute_reply": "2025-08-06T08:09:52.978272Z",
     "shell.execute_reply.started": "2025-08-06T08:09:52.978263Z"
    },
    "tags": []
   },
   "outputs": [],
   "source": [
    "def train_model_with_FGM(model, train_dataloader, val_dataloader, criterion, optimizer, scheduler, device, num_epochs,save_path):\n",
    "\n",
    "    best_macro_f1 = 0.0\n",
    "    for epoch in range(num_epochs):\n",
    "\n",
    "        model.train()\n",
    "        total_loss = 0\n",
    "        progress_bar = tqdm(train_dataloader, desc=f\"Training Epoch {epoch + 1}\")\n",
    "\n",
    "        fgm = FGM(model)\n",
    "        for batch in progress_bar:\n",
    "            input_ids = batch['input_ids'].to(device)\n",
    "            attention_mask = batch['attention_mask'].to(device)\n",
    "            token_type_ids = batch['token_type_ids'].to(device)\n",
    "            labels = batch['labels'].to(device)\n",
    "\n",
    "            optimizer.zero_grad()\n",
    "            logits = model(input_ids, attention_mask, token_type_ids)\n",
    "            loss = criterion(logits, labels)\n",
    "            loss.backward(retain_graph=True)\n",
    "\n",
    "            fgm.attack()\n",
    "            logits_adv = model(input_ids, attention_mask, token_type_ids)\n",
    "            loss_adv = criterion(logits_adv, labels)\n",
    "            loss_adv.backward(retain_graph=True)\n",
    "            fgm.restore()\n",
    "\n",
    "            optimizer.step()\n",
    "            scheduler.step()\n",
    "\n",
    "            total_loss += loss.item()\n",
    "            progress_bar.set_postfix({'loss': loss.item()})\n",
    "\n",
    "        avg_train_loss = total_loss / len(train_dataloader)\n",
    "\n",
    "        val_loss, val_macro_f1 = evaluate_model(model, val_dataloader, criterion, device)\n",
    "\n",
    "        print(f\"Epoch {epoch+1}/{num_epochs}\")\n",
    "        print(f\"  Val Macro F1: {val_macro_f1:.4f}\")\n",
    "        print(\"-\" * 50)\n",
    "\n",
    "        if val_macro_f1 > best_macro_f1:\n",
    "            best_macro_f1 = val_macro_f1\n",
    "            torch.save(model.state_dict(), save_path)\n",
    "            print(f\"Best model saved to {save_path} with Val Macro F1: {val_macro_f1:.4f}\")\n",
    "\n",
    "    print(f\"Training completed. Best Macro F1: {best_macro_f1:.4f}\")"
   ]
  },
  {
   "cell_type": "code",
   "execution_count": 24,
   "id": "d511a938-9d5c-4d63-83d1-cd7e12a564f5",
   "metadata": {
    "ExecutionIndicator": {
     "show": false
    },
    "execution": {
     "iopub.status.busy": "2025-08-06T08:09:52.979237Z",
     "iopub.status.idle": "2025-08-06T08:09:52.979441Z",
     "shell.execute_reply": "2025-08-06T08:09:52.979348Z",
     "shell.execute_reply.started": "2025-08-06T08:09:52.979340Z"
    },
    "tags": []
   },
   "outputs": [],
   "source": [
    "class PGD():\n",
    "    def __init__(self, model):\n",
    "        self.model = model\n",
    "        self.emb_backup = {}\n",
    "        self.grad_backup = {}\n",
    "\n",
    "    def attack(self, epsilon=1., alpha=0.3, emb_name='word_embeddings', is_first_attack=False):\n",
    "        for name, param in self.model.named_parameters():\n",
    "            if param.requires_grad and emb_name in name:\n",
    "                if is_first_attack:\n",
    "                    self.emb_backup[name] = param.data.clone()\n",
    "                norm = torch.norm(param.grad)\n",
    "                if norm != 0 and not torch.isnan(norm):\n",
    "                    r_at = alpha * param.grad / norm\n",
    "                    param.data.add_(r_at)\n",
    "                    param.data = self.project(name, param.data, epsilon)\n",
    "\n",
    "    def restore(self, emb_name='word_embeddings'):\n",
    "        for name, param in self.model.named_parameters():\n",
    "            if param.requires_grad and emb_name in name:\n",
    "                assert name in self.emb_backup\n",
    "                param.data = self.emb_backup[name]\n",
    "        self.emb_backup = {}\n",
    "\n",
    "    def project(self, param_name, param_data, epsilon):\n",
    "        r = param_data - self.emb_backup[param_name]\n",
    "        if torch.norm(r) > epsilon:\n",
    "            r = epsilon * r / torch.norm(r)\n",
    "        return self.emb_backup[param_name] + r\n",
    "\n",
    "    def backup_grad(self):\n",
    "        for name, param in self.model.named_parameters():\n",
    "            if param.requires_grad:\n",
    "                self.grad_backup[name] = param.grad.clone()\n",
    "\n",
    "    def restore_grad(self):\n",
    "        for name, param in self.model.named_parameters():\n",
    "            if param.requires_grad:\n",
    "                param.grad = self.grad_backup[name]"
   ]
  },
  {
   "cell_type": "code",
   "execution_count": 25,
   "id": "f3d908e0-435b-4065-936c-eed18fd0f689",
   "metadata": {
    "ExecutionIndicator": {
     "show": false
    },
    "execution": {
     "iopub.status.busy": "2025-08-06T08:09:52.980088Z",
     "iopub.status.idle": "2025-08-06T08:09:52.980289Z",
     "shell.execute_reply": "2025-08-06T08:09:52.980197Z",
     "shell.execute_reply.started": "2025-08-06T08:09:52.980188Z"
    },
    "tags": []
   },
   "outputs": [],
   "source": [
    "def train_model_with_PGD(model, train_dataloader, val_dataloader, criterion, optimizer, scheduler, device, num_epochs, save_path):\n",
    "\n",
    "    best_macro_f1 = 0.0\n",
    "    for epoch in range(num_epochs):\n",
    "        model.train()\n",
    "        total_loss = 0\n",
    "        progress_bar = tqdm(train_dataloader, desc=f\"Training Epoch {epoch + 1}\")\n",
    "\n",
    "        pgd = PGD(model)\n",
    "        K = 3\n",
    "        for batch in progress_bar:\n",
    "            input_ids = batch['input_ids'].to(device)\n",
    "            attention_mask = batch['attention_mask'].to(device)\n",
    "            token_type_ids = batch['token_type_ids'].to(device)\n",
    "            labels = batch['labels'].to(device)\n",
    "\n",
    "            optimizer.zero_grad()\n",
    "            logits = model(input_ids, attention_mask, token_type_ids)\n",
    "            loss = criterion(logits, labels)\n",
    "            loss.backward()\n",
    "\n",
    "            # 对抗训练\n",
    "            pgd.backup_grad()\n",
    "            for t in range(K):\n",
    "                pgd.attack(is_first_attack=(t==0))\n",
    "                if t != K-1:\n",
    "                    model.zero_grad()\n",
    "                else:\n",
    "                    pgd.restore_grad()\n",
    "                logits_adv = model(input_ids, attention_mask, token_type_ids)\n",
    "                loss_adv = criterion(logits_adv, labels)\n",
    "                loss_adv.backward()\n",
    "            pgd.restore()\n",
    "\n",
    "            optimizer.step()\n",
    "            scheduler.step()\n",
    "\n",
    "            total_loss += loss.item()\n",
    "            progress_bar.set_postfix({'loss': loss.item()})\n",
    "\n",
    "        avg_train_loss = total_loss / len(train_dataloader)\n",
    "\n",
    "        val_loss, val_macro_f1 = evaluate_model(model, val_dataloader, criterion, device)\n",
    "\n",
    "        print(f\"Epoch {epoch+1}/{num_epochs}\")\n",
    "        print(f\"  Val Macro F1: {val_macro_f1:.4f}\")\n",
    "        print(\"-\" * 50)\n",
    "\n",
    "        if val_macro_f1 > best_macro_f1:\n",
    "            best_macro_f1 = val_macro_f1\n",
    "            torch.save(model.state_dict(), save_path)\n",
    "            print(f\"Best model saved to {save_path} with Val Macro F1: {val_macro_f1:.4f}\")\n",
    "\n",
    "    print(f\"Training completed. Best Macro F1: {best_macro_f1:.4f}\")"
   ]
  },
  {
   "cell_type": "code",
   "execution_count": 26,
   "id": "c2633a3b-675c-44ba-a06a-9a028b4c692b",
   "metadata": {
    "ExecutionIndicator": {
     "show": false
    },
    "execution": {
     "iopub.status.busy": "2025-08-06T08:09:52.981413Z",
     "iopub.status.idle": "2025-08-06T08:09:52.981919Z",
     "shell.execute_reply": "2025-08-06T08:09:52.981659Z",
     "shell.execute_reply.started": "2025-08-06T08:09:52.981637Z"
    },
    "tags": []
   },
   "outputs": [],
   "source": [
    "def evaluate_model(model, dataloader, criterion, device):\n",
    "    \"\"\"\n",
    "    评估模型，返回损失、准确率和 Macro F1-Score\n",
    "    \"\"\"\n",
    "    model.eval()\n",
    "    total_loss = 0\n",
    "    correct_predictions = 0\n",
    "    total_predictions = 0\n",
    "    all_preds = []\n",
    "    all_labels = []\n",
    "\n",
    "    progress_bar = tqdm(dataloader, desc=\"Evaluating\", leave=False)\n",
    "\n",
    "    with torch.no_grad():\n",
    "        for batch in progress_bar:\n",
    "            input_ids = batch['input_ids'].to(device)\n",
    "            attention_mask = batch['attention_mask'].to(device)\n",
    "            token_type_ids = batch['token_type_ids'].to(device)\n",
    "            labels = batch['labels'].to(device)\n",
    "\n",
    "            logits = model(input_ids, attention_mask, token_type_ids)\n",
    "            loss = criterion(logits, labels)\n",
    "            total_loss += loss.item()\n",
    "\n",
    "            preds = torch.argmax(logits, dim=1)\n",
    "            all_preds.extend(preds.cpu().numpy())\n",
    "            all_labels.extend(labels.cpu().numpy())\n",
    "            correct_predictions += (preds == labels).sum().item()\n",
    "            total_predictions += labels.size(0)\n",
    "\n",
    "            progress_bar.set_postfix({'batch_loss': f'{loss.item():.4f}'})\n",
    "\n",
    "    avg_loss = total_loss / len(dataloader)\n",
    "    macro_f1 = f1_score(all_labels, all_preds, average='macro')\n",
    "\n",
    "    return avg_loss, macro_f1"
   ]
  },
  {
   "cell_type": "code",
   "execution_count": 28,
   "id": "13e8e935-9221-4048-8554-751f8bf13217",
   "metadata": {
    "ExecutionIndicator": {
     "show": false
    },
    "execution": {
     "iopub.execute_input": "2025-08-06T08:10:56.414299Z",
     "iopub.status.busy": "2025-08-06T08:10:56.413994Z",
     "iopub.status.idle": "2025-08-06T08:10:56.501047Z",
     "shell.execute_reply": "2025-08-06T08:10:56.500401Z",
     "shell.execute_reply.started": "2025-08-06T08:10:56.414279Z"
    },
    "tags": []
   },
   "outputs": [],
   "source": [
    "MODEL_NAME = '/workspace/models/chinese-bert-wwm'\n",
    "MAX_LENGTH = 512\n",
    "BATCH_SIZE = 8\n",
    "LEARNING_RATE = 2e-5\n",
    "WEIGHT_DECAY = 0.1\n",
    "NUM_EPOCHS = 10\n",
    "DROPOUT = 0.2\n",
    "NUM_LABELS = 10\n",
    "device = torch.device('cuda' if torch.cuda.is_available() else 'cpu')\n",
    "\n",
    "tokenizer = BertTokenizer.from_pretrained(MODEL_NAME)\n",
    "model = BertForSequenceClassification(bert_model_name=MODEL_NAME,num_labels=NUM_LABELS,dropout=DROPOUT).to(device)"
   ]
  },
  {
   "cell_type": "code",
   "execution_count": 29,
   "id": "76964d0d-7ec3-409a-b781-314aba757c1b",
   "metadata": {
    "ExecutionIndicator": {
     "show": false
    },
    "tags": []
   },
   "outputs": [],
   "source": [
    "train_data, val_data = train_test_split(data, test_size=0.2, stratify=data['label'])\n",
    "\n",
    "train_data_text = train_data['文本'].to_list()\n",
    "train_data_label = train_data['label'].to_list()\n",
    "\n",
    "val_data_text = val_data['文本'].to_list()\n",
    "val_data_label = val_data['label'].to_list()\n",
    "\n",
    "train_dataset = TextClassificationDataset(train_data_text, train_data_label, tokenizer, MAX_LENGTH)\n",
    "val_dataset = TextClassificationDataset(val_data_text, val_data_label, tokenizer, MAX_LENGTH)\n",
    "\n",
    "train_dataloader = DataLoader(train_dataset, batch_size=BATCH_SIZE, shuffle=True)\n",
    "val_dataloader = DataLoader(val_dataset, batch_size=BATCH_SIZE, shuffle=False)"
   ]
  },
  {
   "cell_type": "code",
   "execution_count": 30,
   "id": "b6f4138e-5b5e-4c41-9313-694aee9c3785",
   "metadata": {},
   "outputs": [],
   "source": [
    "def softmax_with_temperature(logits, temperature=1.0):\n",
    "    return np.exp((logits - np.max(logits)) / temperature) / np.sum(np.exp((logits - np.max(logits)) / temperature))"
   ]
  },
  {
   "cell_type": "code",
   "execution_count": 40,
   "id": "db68128a",
   "metadata": {},
   "outputs": [
    {
     "data": {
      "text/plain": [
       "array([ 0.80804829, 80.32      ,  3.23349436, 10.40414508,  1.57490196,\n",
       "       35.22807018,  0.3543321 ,  2.19213974,  0.55933148,  0.38240335])"
      ]
     },
     "execution_count": 40,
     "metadata": {},
     "output_type": "execute_result"
    }
   ],
   "source": [
    "compute_class_weight('balanced', classes=np.array(list(id_to_label.keys())), y=train_data_label)"
   ]
  },
  {
   "cell_type": "code",
   "execution_count": null,
   "id": "305177d9",
   "metadata": {},
   "outputs": [
    {
     "data": {
      "text/plain": [
       "array([ 2.72973723, 65.67270703,  3.00784296,  4.00702561,  2.81476703,\n",
       "       10.81578053,  2.68064304,  2.88512726,  2.70271461,  2.68365469])"
      ]
     },
     "execution_count": 51,
     "metadata": {},
     "output_type": "execute_result"
    }
   ],
   "source": []
  },
  {
   "cell_type": "code",
   "execution_count": 39,
   "id": "8461889a-1839-4369-8f65-7892efa00613",
   "metadata": {
    "ExecutionIndicator": {
     "show": true
    },
    "tags": []
   },
   "outputs": [],
   "source": [
    "# CrossEntropyLoss\n",
    "# criterion = nn.CrossEntropyLoss()\n",
    "\n",
    "# class_weights CrossEntropyLoss\n",
    "class_weights = torch.tensor(softmax_with_temperature(compute_class_weight('balanced', classes=np.array(list(id_to_label.keys())), y=train_data_label), temperature=30.0), dtype=torch.float32).to(device)\n",
    "criterion = nn.CrossEntropyLoss(weight=class_weights)\n",
    "\n",
    "optimizer = optim.AdamW(model.parameters(), lr=LEARNING_RATE, weight_decay=WEIGHT_DECAY)\n",
    "total_steps = len(train_dataloader) * NUM_EPOCHS\n",
    "scheduler = get_cosine_schedule_with_warmup(optimizer, num_warmup_steps=int(0.05 * total_steps), num_training_steps=total_steps)"
   ]
  },
  {
   "cell_type": "code",
   "execution_count": null,
   "id": "f89c81f4-8fcf-4677-9d03-d95704269ab5",
   "metadata": {
    "ExecutionIndicator": {
     "show": true
    },
    "tags": []
   },
   "outputs": [
    {
     "name": "stderr",
     "output_type": "stream",
     "text": [
      "Training Epoch 1: 100%|██████████| 2510/2510 [37:02<00:00,  1.13it/s, loss=0.513] \n",
      "                                                                                \r"
     ]
    },
    {
     "name": "stdout",
     "output_type": "stream",
     "text": [
      "Epoch 1/10\n",
      "  Val Macro F1: 0.5796\n",
      "--------------------------------------------------\n",
      "Best model saved to ./model_path/best_model_with_FGM_macro_f1.pth with Val Macro F1: 0.5796\n"
     ]
    },
    {
     "name": "stderr",
     "output_type": "stream",
     "text": [
      "Training Epoch 2: 100%|██████████| 2510/2510 [37:01<00:00,  1.13it/s, loss=0.534]  \n",
      "                                                                                \r"
     ]
    },
    {
     "name": "stdout",
     "output_type": "stream",
     "text": [
      "Epoch 2/10\n",
      "  Val Macro F1: 0.6128\n",
      "--------------------------------------------------\n",
      "Best model saved to ./model_path/best_model_with_FGM_macro_f1.pth with Val Macro F1: 0.6128\n"
     ]
    },
    {
     "name": "stderr",
     "output_type": "stream",
     "text": [
      "Training Epoch 3: 100%|██████████| 2510/2510 [37:11<00:00,  1.12it/s, loss=0.0666] \n",
      "                                                                                \r"
     ]
    },
    {
     "name": "stdout",
     "output_type": "stream",
     "text": [
      "Epoch 3/10\n",
      "  Val Macro F1: 0.6388\n",
      "--------------------------------------------------\n",
      "Best model saved to ./model_path/best_model_with_FGM_macro_f1.pth with Val Macro F1: 0.6388\n"
     ]
    },
    {
     "name": "stderr",
     "output_type": "stream",
     "text": [
      "Training Epoch 4:  82%|████████▏ | 2052/2510 [30:20<06:46,  1.13it/s, loss=0.0859] "
     ]
    }
   ],
   "source": [
    "save_path = 'model_path/best_model_with_FGM_macro_f1.pth'\n",
    "train_model_with_FGM(model, train_dataloader, val_dataloader, criterion, optimizer, scheduler, device, num_epochs=NUM_EPOCHS, save_path=save_path)"
   ]
  },
  {
   "cell_type": "code",
   "execution_count": null,
   "id": "506d5235-5ddd-448c-92b8-ec3f1adfe585",
   "metadata": {
    "ExecutionIndicator": {
     "show": false
    },
    "tags": []
   },
   "outputs": [],
   "source": [
    "def predict_single_text(model, text, tokenizer, label_to_id, id_to_label, device, max_length=512):\n",
    "\n",
    "    model.eval()\n",
    "\n",
    "    encoding = tokenizer(\n",
    "        text,\n",
    "        truncation=True,\n",
    "        padding='max_length',\n",
    "        max_length=max_length,\n",
    "        return_tensors='pt'\n",
    "    )\n",
    "    input_ids = encoding['input_ids'].to(device)\n",
    "    attention_mask = encoding['attention_mask'].to(device)\n",
    "    token_type_ids = encoding['token_type_ids'].to(device)\n",
    "    with torch.no_grad():\n",
    "        logits = model(input_ids, attention_mask, token_type_ids)\n",
    "\n",
    "    probabilities = F.softmax(logits, dim=1)\n",
    "    predicted_id = torch.argmax(logits, dim=1).item()\n",
    "    predicted_label = id_to_label[predicted_id]\n",
    "\n",
    "    return predicted_id,predicted_label"
   ]
  },
  {
   "cell_type": "code",
   "execution_count": null,
   "id": "fadfed8a-a86e-48e9-bd72-efb42ac3a1aa",
   "metadata": {
    "execution": {
     "iopub.execute_input": "2025-08-05T08:06:55.705102Z",
     "iopub.status.busy": "2025-08-05T08:06:55.704820Z",
     "iopub.status.idle": "2025-08-05T08:06:55.719665Z",
     "shell.execute_reply": "2025-08-05T08:06:55.719282Z",
     "shell.execute_reply.started": "2025-08-05T08:06:55.705087Z"
    },
    "tags": []
   },
   "outputs": [],
   "source": [
    "loaded_model = BertForSequenceClassification(bert_model_name=MODEL_NAME,num_labels=NUM_LABELS).to(device)\n",
    "loaded_model.load_state_dict(torch.load(save_path, map_location=device))\n",
    "loaded_model.to(device)\n",
    "loaded_model.eval()"
   ]
  },
  {
   "cell_type": "code",
   "execution_count": null,
   "id": "cb288da6-00f0-409c-a230-7e9163853309",
   "metadata": {
    "ExecutionIndicator": {
     "show": false
    },
    "tags": []
   },
   "outputs": [],
   "source": [
    "data_test = pd.read_csv('dataset/test_text.csv')\n",
    "data_test_text = data_test['文本'].to_list()\n",
    "\n",
    "pred_list = []\n",
    "for text in tqdm(data_test_text):\n",
    "    pred_id, pred_label = predict_single_text(\n",
    "        model=loaded_model,\n",
    "        text=text,\n",
    "        tokenizer=tokenizer,\n",
    "        label_to_id=label_to_id,\n",
    "        id_to_label=id_to_label,\n",
    "        device=device,\n",
    "        max_length=MAX_LENGTH\n",
    "    )\n",
    "    pred_list.append(pred_label)\n",
    "\n",
    "submit = pd.read_csv('dataset/example.csv')\n",
    "submit['类别'] = pred_list\n",
    "submit.to_csv('dataset/submit.csv')"
   ]
  }
 ],
 "metadata": {
  "kernelspec": {
   "display_name": "Python 3 (ipykernel)",
   "language": "python",
   "name": "python3"
  },
  "language_info": {
   "codemirror_mode": {
    "name": "ipython",
    "version": 3
   },
   "file_extension": ".py",
   "mimetype": "text/x-python",
   "name": "python",
   "nbconvert_exporter": "python",
   "pygments_lexer": "ipython3",
   "version": "3.11.11"
  }
 },
 "nbformat": 4,
 "nbformat_minor": 5
}
