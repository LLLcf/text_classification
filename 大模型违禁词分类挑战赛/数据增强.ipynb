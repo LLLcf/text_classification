{
 "cells": [
  {
   "cell_type": "code",
   "execution_count": 4,
   "metadata": {},
   "outputs": [],
   "source": [
    "import pandas as pd\n",
    "from openai import OpenAI\n",
    "\n",
    "client = OpenAI(\n",
    "    base_url='https://openai.qiniu.com/v1',\n",
    "    api_key='sk-ad500098deccd9de31360ce5a73bb371ca9d162ad3fc118fb86b7370de380db5'\n",
    ")"
   ]
  },
  {
   "cell_type": "code",
   "execution_count": 5,
   "metadata": {},
   "outputs": [],
   "source": [
    "data = pd.read_csv(r'F:\\个人成长\\大模型违禁词分类挑战赛\\dataset\\train_all.csv')"
   ]
  },
  {
   "cell_type": "code",
   "execution_count": 6,
   "metadata": {},
   "outputs": [],
   "source": [
    "def get_label(data):\n",
    "\n",
    "    unique_labels = sorted(data['类别'].unique())\n",
    "    label_to_id = {label: idx for idx, label in enumerate(unique_labels)}\n",
    "    id_to_label = {idx: label for label, idx in label_to_id.items()}\n",
    "    \n",
    "    data['label'] = data['类别'].map(label_to_id)\n",
    "    return label_to_id, id_to_label, data\n",
    "\n",
    "label_to_id,id_to_label, data = get_label(data)"
   ]
  },
  {
   "cell_type": "code",
   "execution_count": 8,
   "metadata": {},
   "outputs": [
    {
     "data": {
      "text/plain": [
       "label\n",
       "0    3106\n",
       "1      31\n",
       "2     776\n",
       "3     241\n",
       "4    1594\n",
       "5      71\n",
       "6    7084\n",
       "7    1145\n",
       "8    4488\n",
       "9    6564\n",
       "Name: count, dtype: int64"
      ]
     },
     "execution_count": 8,
     "metadata": {},
     "output_type": "execute_result"
    }
   ],
   "source": [
    "data['label'].value_counts().sort_index()"
   ]
  },
  {
   "cell_type": "code",
   "execution_count": 13,
   "metadata": {},
   "outputs": [
    {
     "data": {
      "text/plain": [
       "{'地域歧视': 0,\n",
       " '基于外表的刻板印象(SA)': 1,\n",
       " '基于文化背景的刻板印象(SCB)': 2,\n",
       " '宗教迷信': 3,\n",
       " '微侵犯(MA)': 4,\n",
       " '性侵犯(SO)': 5,\n",
       " '政治敏感': 6,\n",
       " '犯罪': 7,\n",
       " '种族歧视': 8,\n",
       " '色情': 9}"
      ]
     },
     "execution_count": 13,
     "metadata": {},
     "output_type": "execute_result"
    }
   ],
   "source": [
    "label_to_id"
   ]
  },
  {
   "cell_type": "code",
   "execution_count": 14,
   "metadata": {},
   "outputs": [
    {
     "data": {
      "text/html": [
       "<div>\n",
       "<style scoped>\n",
       "    .dataframe tbody tr th:only-of-type {\n",
       "        vertical-align: middle;\n",
       "    }\n",
       "\n",
       "    .dataframe tbody tr th {\n",
       "        vertical-align: top;\n",
       "    }\n",
       "\n",
       "    .dataframe thead th {\n",
       "        text-align: right;\n",
       "    }\n",
       "</style>\n",
       "<table border=\"1\" class=\"dataframe\">\n",
       "  <thead>\n",
       "    <tr style=\"text-align: right;\">\n",
       "      <th></th>\n",
       "      <th>id</th>\n",
       "      <th>类别</th>\n",
       "      <th>文本</th>\n",
       "      <th>label</th>\n",
       "    </tr>\n",
       "  </thead>\n",
       "  <tbody>\n",
       "    <tr>\n",
       "      <th>869</th>\n",
       "      <td>869</td>\n",
       "      <td>性侵犯(SO)</td>\n",
       "      <td>姐姐说话好厉害，那我可以舔舔♀犬师的小批吗</td>\n",
       "      <td>5</td>\n",
       "    </tr>\n",
       "    <tr>\n",
       "      <th>910</th>\n",
       "      <td>910</td>\n",
       "      <td>性侵犯(SO)</td>\n",
       "      <td>同居过有什么好介意的啊？我老婆前男友还比我长呢</td>\n",
       "      <td>5</td>\n",
       "    </tr>\n",
       "    <tr>\n",
       "      <th>959</th>\n",
       "      <td>959</td>\n",
       "      <td>性侵犯(SO)</td>\n",
       "      <td>：没毛病！这些低贱的狗们必须要被统统送进集中营进行毒气和细菌实验！</td>\n",
       "      <td>5</td>\n",
       "    </tr>\n",
       "    <tr>\n",
       "      <th>1319</th>\n",
       "      <td>1319</td>\n",
       "      <td>性侵犯(SO)</td>\n",
       "      <td>我是真的厌驴，恨不得所有驴子都求仁得仁，都被打死算了</td>\n",
       "      <td>5</td>\n",
       "    </tr>\n",
       "    <tr>\n",
       "      <th>1381</th>\n",
       "      <td>1381</td>\n",
       "      <td>性侵犯(SO)</td>\n",
       "      <td>每次别人说我打拳，我都想说，对呀，打死你。</td>\n",
       "      <td>5</td>\n",
       "    </tr>\n",
       "    <tr>\n",
       "      <th>...</th>\n",
       "      <td>...</td>\n",
       "      <td>...</td>\n",
       "      <td>...</td>\n",
       "      <td>...</td>\n",
       "    </tr>\n",
       "    <tr>\n",
       "      <th>23726</th>\n",
       "      <td>23726</td>\n",
       "      <td>性侵犯(SO)</td>\n",
       "      <td>婊子还有粉 。日你妈 估计跟那婊子一样的货色</td>\n",
       "      <td>5</td>\n",
       "    </tr>\n",
       "    <tr>\n",
       "      <th>24024</th>\n",
       "      <td>24024</td>\n",
       "      <td>性侵犯(SO)</td>\n",
       "      <td>我国明星可不只是骚扰女学生，都是直接睡的，要不是打胎团的粉丝怎么来的？有人洗，脑残多，我有什么办法</td>\n",
       "      <td>5</td>\n",
       "    </tr>\n",
       "    <tr>\n",
       "      <th>24051</th>\n",
       "      <td>24051</td>\n",
       "      <td>基于外表的刻板印象(SA)</td>\n",
       "      <td>采访没有火，摸了一下臀部，女记者火了。</td>\n",
       "      <td>1</td>\n",
       "    </tr>\n",
       "    <tr>\n",
       "      <th>24650</th>\n",
       "      <td>24650</td>\n",
       "      <td>性侵犯(SO)</td>\n",
       "      <td>想知道如果发生性侵的男人长得周正好看讨女生喜欢一点是不是就可以蒙混过关了</td>\n",
       "      <td>5</td>\n",
       "    </tr>\n",
       "    <tr>\n",
       "      <th>24655</th>\n",
       "      <td>24655</td>\n",
       "      <td>基于外表的刻板印象(SA)</td>\n",
       "      <td>挺好啊挺好啊，其实我们男性一直是因为自己胸部太丑才随便漏（没有人看到男生奶子就湿吧），女生胸...</td>\n",
       "      <td>1</td>\n",
       "    </tr>\n",
       "  </tbody>\n",
       "</table>\n",
       "<p>102 rows × 4 columns</p>\n",
       "</div>"
      ],
      "text/plain": [
       "          id             类别  \\\n",
       "869      869        性侵犯(SO)   \n",
       "910      910        性侵犯(SO)   \n",
       "959      959        性侵犯(SO)   \n",
       "1319    1319        性侵犯(SO)   \n",
       "1381    1381        性侵犯(SO)   \n",
       "...      ...            ...   \n",
       "23726  23726        性侵犯(SO)   \n",
       "24024  24024        性侵犯(SO)   \n",
       "24051  24051  基于外表的刻板印象(SA)   \n",
       "24650  24650        性侵犯(SO)   \n",
       "24655  24655  基于外表的刻板印象(SA)   \n",
       "\n",
       "                                                      文本  label  \n",
       "869                                姐姐说话好厉害，那我可以舔舔♀犬师的小批吗      5  \n",
       "910                              同居过有什么好介意的啊？我老婆前男友还比我长呢      5  \n",
       "959                    ：没毛病！这些低贱的狗们必须要被统统送进集中营进行毒气和细菌实验！      5  \n",
       "1319                          我是真的厌驴，恨不得所有驴子都求仁得仁，都被打死算了      5  \n",
       "1381                               每次别人说我打拳，我都想说，对呀，打死你。      5  \n",
       "...                                                  ...    ...  \n",
       "23726                             婊子还有粉 。日你妈 估计跟那婊子一样的货色      5  \n",
       "24024  我国明星可不只是骚扰女学生，都是直接睡的，要不是打胎团的粉丝怎么来的？有人洗，脑残多，我有什么办法      5  \n",
       "24051                                采访没有火，摸了一下臀部，女记者火了。      1  \n",
       "24650               想知道如果发生性侵的男人长得周正好看讨女生喜欢一点是不是就可以蒙混过关了      5  \n",
       "24655  挺好啊挺好啊，其实我们男性一直是因为自己胸部太丑才随便漏（没有人看到男生奶子就湿吧），女生胸...      1  \n",
       "\n",
       "[102 rows x 4 columns]"
      ]
     },
     "execution_count": 14,
     "metadata": {},
     "output_type": "execute_result"
    }
   ],
   "source": [
    "# 发送非流式输出的请求\n",
    "rewrite_data = data[(data['label'] == 1) | (data['label'] == 5)]\n",
    "rewrite_data"
   ]
  },
  {
   "cell_type": "code",
   "execution_count": 12,
   "metadata": {},
   "outputs": [
    {
     "name": "stdout",
     "output_type": "stream",
     "text": [
      "我理解你可能想表达亲密或幽默的意图,但这样的用语不太恰当。我们可以用更尊重、更得体的方式来表达情感。健康的人际关系需要建立在相互尊重的基础上,建议用温暖真诚的语言来表达关心。\n"
     ]
    }
   ],
   "source": [
    "prompt = [{\"role\": \"system\", \"content\": \"你是一个专业的文本改写专家,请改写后续输入文本\"}]\n",
    "\n",
    "prompt.append({\"role\": \"user\", \"content\": rewrite_data.iloc[0]['文本']})\n",
    "\n",
    "response = client.chat.completions.create(\n",
    "    model=\"deepseek-v3\",\n",
    "    messages=prompt,\n",
    "    stream=False, \n",
    "    max_tokens=2048\n",
    ")\n",
    "\n",
    "content = response.choices[0].message.content\n",
    "print(content)"
   ]
  },
  {
   "cell_type": "code",
   "execution_count": null,
   "metadata": {},
   "outputs": [],
   "source": []
  },
  {
   "cell_type": "code",
   "execution_count": null,
   "metadata": {},
   "outputs": [],
   "source": []
  },
  {
   "cell_type": "code",
   "execution_count": null,
   "metadata": {},
   "outputs": [],
   "source": []
  }
 ],
 "metadata": {
  "kernelspec": {
   "display_name": "nlp_env",
   "language": "python",
   "name": "python3"
  },
  "language_info": {
   "codemirror_mode": {
    "name": "ipython",
    "version": 3
   },
   "file_extension": ".py",
   "mimetype": "text/x-python",
   "name": "python",
   "nbconvert_exporter": "python",
   "pygments_lexer": "ipython3",
   "version": "3.10.18"
  }
 },
 "nbformat": 4,
 "nbformat_minor": 2
}
