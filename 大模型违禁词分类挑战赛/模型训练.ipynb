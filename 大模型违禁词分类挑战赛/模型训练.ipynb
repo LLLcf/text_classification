{
 "cells": [
  {
   "cell_type": "code",
   "execution_count": 1,
   "id": "4f66ca26-42a2-438c-9084-9ff66bb18675",
   "metadata": {
    "execution": {
     "iopub.execute_input": "2025-08-05T07:27:36.992272Z",
     "iopub.status.busy": "2025-08-05T07:27:36.992145Z",
     "iopub.status.idle": "2025-08-05T07:27:41.715773Z",
     "shell.execute_reply": "2025-08-05T07:27:41.715329Z",
     "shell.execute_reply.started": "2025-08-05T07:27:36.992258Z"
    },
    "tags": []
   },
   "outputs": [
    {
     "name": "stdout",
     "output_type": "stream",
     "text": [
      "Looking in indexes: https://mirrors.cloud.aliyuncs.com/pypi/simple\n",
      "Requirement already satisfied: pandas in /usr/local/lib/python3.11/site-packages (2.3.0)\n",
      "Requirement already satisfied: numpy in /usr/local/lib/python3.11/site-packages (1.26.4)\n",
      "Requirement already satisfied: transformers in /usr/local/lib/python3.11/site-packages (4.53.1)\n",
      "Requirement already satisfied: scikit-learn in /usr/local/lib/python3.11/site-packages (1.7.0)\n",
      "Requirement already satisfied: tqdm in /usr/local/lib/python3.11/site-packages (4.67.1)\n",
      "Requirement already satisfied: python-dateutil>=2.8.2 in /usr/local/lib/python3.11/site-packages (from pandas) (2.9.0.post0)\n",
      "Requirement already satisfied: pytz>=2020.1 in /usr/local/lib/python3.11/site-packages (from pandas) (2025.2)\n",
      "Requirement already satisfied: tzdata>=2022.7 in /usr/local/lib/python3.11/site-packages (from pandas) (2025.2)\n",
      "Requirement already satisfied: filelock in /usr/local/lib/python3.11/site-packages (from transformers) (3.17.0)\n",
      "Requirement already satisfied: huggingface-hub<1.0,>=0.30.0 in /usr/local/lib/python3.11/site-packages (from transformers) (0.33.2)\n",
      "Requirement already satisfied: packaging>=20.0 in /usr/local/lib/python3.11/site-packages (from transformers) (24.2)\n",
      "Requirement already satisfied: pyyaml>=5.1 in /usr/local/lib/python3.11/site-packages (from transformers) (6.0.2)\n",
      "Requirement already satisfied: regex!=2019.12.17 in /usr/local/lib/python3.11/site-packages (from transformers) (2024.11.6)\n",
      "Requirement already satisfied: requests in /usr/local/lib/python3.11/site-packages (from transformers) (2.32.3)\n",
      "Requirement already satisfied: tokenizers<0.22,>=0.21 in /usr/local/lib/python3.11/site-packages (from transformers) (0.21.2)\n",
      "Requirement already satisfied: safetensors>=0.4.3 in /usr/local/lib/python3.11/site-packages (from transformers) (0.5.3)\n",
      "Requirement already satisfied: scipy>=1.8.0 in /usr/local/lib/python3.11/site-packages (from scikit-learn) (1.12.0)\n",
      "Requirement already satisfied: joblib>=1.2.0 in /usr/local/lib/python3.11/site-packages (from scikit-learn) (1.4.2)\n",
      "Requirement already satisfied: threadpoolctl>=3.1.0 in /usr/local/lib/python3.11/site-packages (from scikit-learn) (3.6.0)\n",
      "Requirement already satisfied: fsspec>=2023.5.0 in /usr/local/lib/python3.11/site-packages (from huggingface-hub<1.0,>=0.30.0->transformers) (2024.9.0)\n",
      "Requirement already satisfied: typing-extensions>=3.7.4.3 in /usr/local/lib/python3.11/site-packages (from huggingface-hub<1.0,>=0.30.0->transformers) (4.12.2)\n",
      "Requirement already satisfied: hf-xet<2.0.0,>=1.1.2 in /usr/local/lib/python3.11/site-packages (from huggingface-hub<1.0,>=0.30.0->transformers) (1.1.5)\n",
      "Requirement already satisfied: six>=1.5 in /usr/local/lib/python3.11/site-packages (from python-dateutil>=2.8.2->pandas) (1.17.0)\n",
      "Requirement already satisfied: charset-normalizer<4,>=2 in /usr/local/lib/python3.11/site-packages (from requests->transformers) (3.4.1)\n",
      "Requirement already satisfied: idna<4,>=2.5 in /usr/local/lib/python3.11/site-packages (from requests->transformers) (3.10)\n",
      "Requirement already satisfied: urllib3<3,>=1.21.1 in /usr/local/lib/python3.11/site-packages (from requests->transformers) (2.3.0)\n",
      "Requirement already satisfied: certifi>=2017.4.17 in /usr/local/lib/python3.11/site-packages (from requests->transformers) (2025.1.31)\n",
      "\u001b[33mDEPRECATION: pytorch-lightning 1.7.7 has a non-standard dependency specifier torch>=1.9.*. pip 24.0 will enforce this behaviour change. A possible replacement is to upgrade to a newer version of pytorch-lightning or contact the author to suggest that they release a version with a conforming dependency specifiers. Discussion can be found at https://github.com/pypa/pip/issues/12063\u001b[0m\u001b[33m\n",
      "\u001b[0m\u001b[33mWARNING: Running pip as the 'root' user can result in broken permissions and conflicting behaviour with the system package manager. It is recommended to use a virtual environment instead: https://pip.pypa.io/warnings/venv\u001b[0m\u001b[33m\n",
      "\u001b[0m\n",
      "\u001b[1m[\u001b[0m\u001b[34;49mnotice\u001b[0m\u001b[1;39;49m]\u001b[0m\u001b[39;49m A new release of pip is available: \u001b[0m\u001b[31;49m23.3.2\u001b[0m\u001b[39;49m -> \u001b[0m\u001b[32;49m25.2\u001b[0m\n",
      "\u001b[1m[\u001b[0m\u001b[34;49mnotice\u001b[0m\u001b[1;39;49m]\u001b[0m\u001b[39;49m To update, run: \u001b[0m\u001b[32;49mpip install --upgrade pip\u001b[0m\n",
      "Note: you may need to restart the kernel to use updated packages.\n"
     ]
    }
   ],
   "source": [
    "pip install pandas numpy transformers scikit-learn tqdm"
   ]
  },
  {
   "cell_type": "code",
   "execution_count": 2,
   "id": "f26d9255-322f-4ab2-b347-36987a29ca17",
   "metadata": {
    "ExecutionIndicator": {
     "show": false
    },
    "execution": {
     "iopub.execute_input": "2025-08-05T07:27:41.717847Z",
     "iopub.status.busy": "2025-08-05T07:27:41.717702Z",
     "iopub.status.idle": "2025-08-05T07:27:47.537989Z",
     "shell.execute_reply": "2025-08-05T07:27:47.537543Z",
     "shell.execute_reply.started": "2025-08-05T07:27:41.717831Z"
    },
    "tags": []
   },
   "outputs": [
    {
     "name": "stderr",
     "output_type": "stream",
     "text": [
      "2025-08-05 15:27:45.854957: I tensorflow/core/util/port.cc:113] oneDNN custom operations are on. You may see slightly different numerical results due to floating-point round-off errors from different computation orders. To turn them off, set the environment variable `TF_ENABLE_ONEDNN_OPTS=0`.\n",
      "2025-08-05 15:27:45.895039: I tensorflow/core/platform/cpu_feature_guard.cc:210] This TensorFlow binary is optimized to use available CPU instructions in performance-critical operations.\n",
      "To enable the following instructions: AVX2 AVX512F AVX512_VNNI FMA, in other operations, rebuild TensorFlow with the appropriate compiler flags.\n",
      "2025-08-05 15:27:46.858554: W tensorflow/compiler/tf2tensorrt/utils/py_utils.cc:38] TF-TRT Warning: Could not find TensorRT\n"
     ]
    }
   ],
   "source": [
    "import torch\n",
    "import torch.nn as nn\n",
    "import torch.nn.functional as F\n",
    "from torch.utils.data import Dataset, DataLoader\n",
    "import torch.optim as optim\n",
    "from transformers import BertTokenizer, BertModel, get_linear_schedule_with_warmup\n",
    "from sklearn.metrics import accuracy_score, classification_report\n",
    "from sklearn.metrics import f1_score\n",
    "from sklearn.model_selection import train_test_split\n",
    "import numpy as np\n",
    "import pandas as pd\n",
    "from tqdm import tqdm"
   ]
  },
  {
   "cell_type": "code",
   "execution_count": 3,
   "id": "1423d36d-0e50-45c7-97e2-010e564af9b6",
   "metadata": {
    "ExecutionIndicator": {
     "show": true
    },
    "execution": {
     "iopub.execute_input": "2025-08-05T07:27:47.538799Z",
     "iopub.status.busy": "2025-08-05T07:27:47.538481Z",
     "iopub.status.idle": "2025-08-05T07:27:47.545222Z",
     "shell.execute_reply": "2025-08-05T07:27:47.544880Z",
     "shell.execute_reply.started": "2025-08-05T07:27:47.538784Z"
    },
    "tags": []
   },
   "outputs": [
    {
     "name": "stdout",
     "output_type": "stream",
     "text": [
      "已释放 PyTorch CUDA 缓存\n"
     ]
    },
    {
     "data": {
      "text/plain": [
       "<torch._C.Generator at 0x7ff3a97fd410>"
      ]
     },
     "execution_count": 3,
     "metadata": {},
     "output_type": "execute_result"
    }
   ],
   "source": [
    "if torch.cuda.is_available():\n",
    "    torch.cuda.empty_cache()\n",
    "    print(\"已释放 PyTorch CUDA 缓存\")\n",
    "    \n",
    "np.random.seed(42)\n",
    "torch.manual_seed(42)\n",
    "    "
   ]
  },
  {
   "cell_type": "code",
   "execution_count": 4,
   "id": "02a93ecf-06ce-4bd1-8748-aac0ab9c6b5a",
   "metadata": {
    "execution": {
     "iopub.execute_input": "2025-08-05T07:27:48.554628Z",
     "iopub.status.busy": "2025-08-05T07:27:48.554307Z",
     "iopub.status.idle": "2025-08-05T07:27:48.601547Z",
     "shell.execute_reply": "2025-08-05T07:27:48.601148Z",
     "shell.execute_reply.started": "2025-08-05T07:27:48.554611Z"
    },
    "tags": []
   },
   "outputs": [],
   "source": [
    "data = pd.read_csv('train_all.csv')"
   ]
  },
  {
   "cell_type": "code",
   "execution_count": 5,
   "id": "180bf47b-0e5c-4efc-8a56-51b62bcdd689",
   "metadata": {
    "execution": {
     "iopub.execute_input": "2025-08-05T07:27:48.913187Z",
     "iopub.status.busy": "2025-08-05T07:27:48.912906Z",
     "iopub.status.idle": "2025-08-05T07:27:48.919578Z",
     "shell.execute_reply": "2025-08-05T07:27:48.919182Z",
     "shell.execute_reply.started": "2025-08-05T07:27:48.913171Z"
    },
    "tags": []
   },
   "outputs": [],
   "source": [
    "def get_label(data):\n",
    "\n",
    "    unique_labels = sorted(data['类别'].unique())\n",
    "    label_to_id = {label: idx for idx, label in enumerate(unique_labels)}\n",
    "    id_to_label = {idx: label for label, idx in label_to_id.items()}\n",
    "    \n",
    "    data['label'] = data['类别'].map(label_to_id)\n",
    "    return label_to_id, id_to_label, data\n",
    "\n",
    "label_to_id,id_to_label, data = get_label(data)"
   ]
  },
  {
   "cell_type": "code",
   "execution_count": 6,
   "id": "68db3c0e-542f-47a2-8af7-ee87e4838018",
   "metadata": {
    "execution": {
     "iopub.execute_input": "2025-08-05T07:27:49.253876Z",
     "iopub.status.busy": "2025-08-05T07:27:49.253584Z",
     "iopub.status.idle": "2025-08-05T07:27:49.258194Z",
     "shell.execute_reply": "2025-08-05T07:27:49.257678Z",
     "shell.execute_reply.started": "2025-08-05T07:27:49.253860Z"
    },
    "tags": []
   },
   "outputs": [],
   "source": [
    "class TextClassificationDataset(Dataset):\n",
    "    \"\"\"\n",
    "    自定义文本分类数据集类\n",
    "    \"\"\"\n",
    "    def __init__(self, texts, labels, tokenizer, max_length=128):\n",
    "        \"\"\"\n",
    "        Args:\n",
    "            texts (list): 文本列表\n",
    "            labels (list): 标签列表 (整数，0-9)\n",
    "            tokenizer (BertTokenizer): BERT tokenizer\n",
    "            max_length (int): 文本最大长度\n",
    "        \"\"\"\n",
    "        self.texts = texts\n",
    "        self.labels = labels\n",
    "        self.tokenizer = tokenizer\n",
    "        self.max_length = max_length\n",
    "\n",
    "    def __len__(self):\n",
    "        return len(self.texts)\n",
    "\n",
    "    def __getitem__(self, idx):\n",
    "        text = str(self.texts[idx])\n",
    "        label = self.labels[idx]\n",
    "\n",
    "        encoding = self.tokenizer(\n",
    "            text,\n",
    "            truncation=True,\n",
    "            padding='max_length',\n",
    "            max_length=self.max_length,\n",
    "            return_tensors='pt'\n",
    "        )\n",
    "\n",
    "        return {\n",
    "            'input_ids': encoding['input_ids'].flatten(),\n",
    "            'attention_mask': encoding['attention_mask'].flatten(),\n",
    "            'token_type_ids': encoding['token_type_ids'].flatten(),\n",
    "            'labels': torch.tensor(label, dtype=torch.long)\n",
    "        }"
   ]
  },
  {
   "cell_type": "code",
   "execution_count": 7,
   "id": "6ebb2b8d-4e65-4333-9044-f761d1a695fc",
   "metadata": {
    "execution": {
     "iopub.execute_input": "2025-08-05T07:27:49.498176Z",
     "iopub.status.busy": "2025-08-05T07:27:49.497744Z",
     "iopub.status.idle": "2025-08-05T07:27:49.502097Z",
     "shell.execute_reply": "2025-08-05T07:27:49.501703Z",
     "shell.execute_reply.started": "2025-08-05T07:27:49.498158Z"
    },
    "tags": []
   },
   "outputs": [],
   "source": [
    "class BertForSequenceClassification(nn.Module):\n",
    "    \"\"\"\n",
    "    BERT 外接分类头进行序列分类\n",
    "    \"\"\"\n",
    "    def __init__(self, bert_model_name='bert-base-uncased', num_labels=10, dropout=0.1):\n",
    "        \"\"\"\n",
    "        Args:\n",
    "            bert_model_name (str): 预训练 BERT 模型名称\n",
    "            num_labels (int): 分类数量\n",
    "            dropout (float): dropout 概率\n",
    "        \"\"\"\n",
    "        super(BertForSequenceClassification, self).__init__()\n",
    "        self.num_labels = num_labels\n",
    "        self.bert = BertModel.from_pretrained(bert_model_name)\n",
    "        self.dropout = nn.Dropout(dropout)\n",
    "        self.hidden_size = self.bert.config.hidden_size\n",
    "        self.classifier = nn.Linear(self.hidden_size, num_labels)\n",
    "\n",
    "    def forward(self, input_ids, attention_mask, token_type_ids):\n",
    "        \"\"\"\n",
    "        Args:\n",
    "            input_ids (torch.Tensor): shape (batch_size, sequence_length)\n",
    "            attention_mask (torch.Tensor): shape (batch_size, sequence_length)\n",
    "            token_type_ids (torch.Tensor): shape (batch_size, sequence_length)\n",
    "\n",
    "        Returns:\n",
    "            logits (torch.Tensor): shape (batch_size, num_labels)\n",
    "        \"\"\"\n",
    "        outputs = self.bert(\n",
    "            input_ids=input_ids,\n",
    "            attention_mask=attention_mask,\n",
    "            token_type_ids=token_type_ids,\n",
    "            return_dict=False  # 为了简单，返回 tuple\n",
    "        )\n",
    "        pooled_output = outputs[1]\n",
    "        pooled_output = self.dropout(pooled_output)\n",
    "        logits = self.classifier(pooled_output)\n",
    "\n",
    "        return logits"
   ]
  },
  {
   "cell_type": "code",
   "execution_count": 8,
   "id": "8575aaf4-7ab4-415b-8542-363c358f442d",
   "metadata": {
    "ExecutionIndicator": {
     "show": true
    },
    "execution": {
     "iopub.execute_input": "2025-08-05T07:27:49.840069Z",
     "iopub.status.busy": "2025-08-05T07:27:49.839596Z",
     "iopub.status.idle": "2025-08-05T07:27:49.845442Z",
     "shell.execute_reply": "2025-08-05T07:27:49.845051Z",
     "shell.execute_reply.started": "2025-08-05T07:27:49.840047Z"
    },
    "tags": []
   },
   "outputs": [],
   "source": [
    "def train_model(model, train_dataloader, val_dataloader, criterion, optimizer, scheduler, device, num_epochs=3, save_path='./model_path/best_model_macro_f1.pth'):\n",
    "    \"\"\"\n",
    "    训练模型，并根据 Macro F1-Score 保存最佳模型\n",
    "    \"\"\"\n",
    "    best_macro_f1 = 0.0  # 用于保存最佳模型的 Macro F1 指标\n",
    "\n",
    "    for epoch in range(num_epochs):\n",
    "        # --- 训练阶段 ---\n",
    "        model.train()\n",
    "        total_loss = 0\n",
    "        progress_bar = tqdm(train_dataloader, desc=f\"Training Epoch {epoch + 1}\")\n",
    "\n",
    "        for batch in progress_bar:\n",
    "            input_ids = batch['input_ids'].to(device)\n",
    "            attention_mask = batch['attention_mask'].to(device)\n",
    "            token_type_ids = batch['token_type_ids'].to(device)\n",
    "            labels = batch['labels'].to(device)\n",
    "\n",
    "            optimizer.zero_grad()\n",
    "            logits = model(input_ids, attention_mask, token_type_ids)\n",
    "            loss = criterion(logits, labels)\n",
    "            loss.backward()\n",
    "            optimizer.step()\n",
    "            scheduler.step()\n",
    "\n",
    "            total_loss += loss.item()\n",
    "            progress_bar.set_postfix({'loss': loss.item()})\n",
    "\n",
    "        avg_train_loss = total_loss / len(train_dataloader)\n",
    "\n",
    "        # --- 验证阶段 ---\n",
    "        val_loss, val_accuracy, val_macro_f1 = evaluate_model(model, val_dataloader, criterion, device)\n",
    "        \n",
    "        print(f\"Epoch {epoch+1}/{num_epochs}\")\n",
    "        print(f\"  Train Loss: {avg_train_loss:.4f}\")\n",
    "        print(f\"  Val Loss: {val_loss:.4f}\")\n",
    "        print(f\"  Val Acc: {val_accuracy:.4f}\")\n",
    "        print(f\"  Val Macro F1: {val_macro_f1:.4f}\")  # 打印 F1\n",
    "        print(\"-\" * 50)\n",
    "\n",
    "        # --- 保存最佳模型（基于 Macro F1）---\n",
    "        if val_macro_f1 > best_macro_f1:\n",
    "            best_macro_f1 = val_macro_f1\n",
    "            torch.save(model.state_dict(), save_path)\n",
    "            print(f\"✅ Best model saved to {save_path} with Val Macro F1: {val_macro_f1:.4f}\")\n",
    "\n",
    "    print(f\"✅ Training completed. Best Macro F1: {best_macro_f1:.4f}\")"
   ]
  },
  {
   "cell_type": "code",
   "execution_count": 9,
   "id": "c2633a3b-675c-44ba-a06a-9a028b4c692b",
   "metadata": {
    "ExecutionIndicator": {
     "show": false
    },
    "execution": {
     "iopub.execute_input": "2025-08-05T07:27:50.247426Z",
     "iopub.status.busy": "2025-08-05T07:27:50.247136Z",
     "iopub.status.idle": "2025-08-05T07:27:50.252594Z",
     "shell.execute_reply": "2025-08-05T07:27:50.251964Z",
     "shell.execute_reply.started": "2025-08-05T07:27:50.247410Z"
    },
    "tags": []
   },
   "outputs": [],
   "source": [
    "def evaluate_model(model, dataloader, criterion, device):\n",
    "    \"\"\"\n",
    "    评估模型，返回损失、准确率和 Macro F1-Score\n",
    "    \"\"\"\n",
    "    model.eval()\n",
    "    total_loss = 0\n",
    "    correct_predictions = 0\n",
    "    total_predictions = 0\n",
    "    all_preds = []\n",
    "    all_labels = []\n",
    "\n",
    "    progress_bar = tqdm(dataloader, desc=\"Evaluating\", leave=False)\n",
    "\n",
    "    with torch.no_grad():\n",
    "        for batch in progress_bar:\n",
    "            input_ids = batch['input_ids'].to(device)\n",
    "            attention_mask = batch['attention_mask'].to(device)\n",
    "            token_type_ids = batch['token_type_ids'].to(device)\n",
    "            labels = batch['labels'].to(device)\n",
    "\n",
    "            logits = model(input_ids, attention_mask, token_type_ids)\n",
    "            loss = criterion(logits, labels)\n",
    "            total_loss += loss.item()\n",
    "\n",
    "            preds = torch.argmax(logits, dim=1)\n",
    "\n",
    "            all_preds.extend(preds.cpu().numpy())\n",
    "            all_labels.extend(labels.cpu().numpy())\n",
    "\n",
    "            correct_predictions += (preds == labels).sum().item()\n",
    "            total_predictions += labels.size(0)\n",
    "\n",
    "            progress_bar.set_postfix({'batch_loss': f'{loss.item():.4f}'})\n",
    "\n",
    "    avg_loss = total_loss / len(dataloader)\n",
    "    accuracy = correct_predictions / total_predictions\n",
    "\n",
    "    # 计算 Macro F1-Score\n",
    "    macro_f1 = f1_score(all_labels, all_preds, average='macro')\n",
    "\n",
    "    return avg_loss, accuracy, macro_f1"
   ]
  },
  {
   "cell_type": "code",
   "execution_count": 13,
   "id": "13e8e935-9221-4048-8554-751f8bf13217",
   "metadata": {
    "ExecutionIndicator": {
     "show": true
    },
    "execution": {
     "iopub.execute_input": "2025-08-05T07:28:12.815319Z",
     "iopub.status.busy": "2025-08-05T07:28:12.815042Z",
     "iopub.status.idle": "2025-08-05T07:28:13.020264Z",
     "shell.execute_reply": "2025-08-05T07:28:13.019843Z",
     "shell.execute_reply.started": "2025-08-05T07:28:12.815304Z"
    },
    "tags": []
   },
   "outputs": [],
   "source": [
    "MODEL_NAME = '/mnt/workspace/model/bert-base-chinese'\n",
    "MAX_LENGTH = 512\n",
    "BATCH_SIZE = 32\n",
    "LEARNING_RATE = 2e-5\n",
    "WEIGHT_DECAY = 0.1\n",
    "NUM_EPOCHS = 3\n",
    "DROPOUT = 0.1\n",
    "NUM_LABELS = 10\n",
    "\n",
    "device = torch.device('cuda' if torch.cuda.is_available() else 'cpu')\n",
    "\n",
    "tokenizer = BertTokenizer.from_pretrained(MODEL_NAME)\n",
    "model = BertForSequenceClassification(bert_model_name=MODEL_NAME,num_labels=NUM_LABELS,dropout=DROPOUT).to(device)"
   ]
  },
  {
   "cell_type": "code",
   "execution_count": 14,
   "id": "76964d0d-7ec3-409a-b781-314aba757c1b",
   "metadata": {
    "ExecutionIndicator": {
     "show": false
    },
    "execution": {
     "iopub.execute_input": "2025-08-05T07:28:14.169606Z",
     "iopub.status.busy": "2025-08-05T07:28:14.169194Z",
     "iopub.status.idle": "2025-08-05T07:28:14.187889Z",
     "shell.execute_reply": "2025-08-05T07:28:14.187304Z",
     "shell.execute_reply.started": "2025-08-05T07:28:14.169576Z"
    },
    "tags": []
   },
   "outputs": [],
   "source": [
    "train_data, val_data = train_test_split(data, test_size=0.2, random_state=42, stratify=data['label'])\n",
    "\n",
    "train_data_text = train_data['文本'].to_list()\n",
    "train_data_label = train_data['label'].to_list()\n",
    "\n",
    "val_data_text = val_data['文本'].to_list()\n",
    "val_data_label = val_data['label'].to_list()\n",
    "\n",
    "train_dataset = TextClassificationDataset(train_data_text, train_data_label, tokenizer, MAX_LENGTH)\n",
    "val_dataset = TextClassificationDataset(val_data_text, val_data_label, tokenizer, MAX_LENGTH)\n",
    "\n",
    "train_dataloader = DataLoader(train_dataset, batch_size=BATCH_SIZE, shuffle=True)\n",
    "val_dataloader = DataLoader(val_dataset, batch_size=BATCH_SIZE, shuffle=False)"
   ]
  },
  {
   "cell_type": "code",
   "execution_count": 15,
   "id": "8461889a-1839-4369-8f65-7892efa00613",
   "metadata": {
    "ExecutionIndicator": {
     "show": false
    },
    "execution": {
     "iopub.execute_input": "2025-08-05T07:28:19.167225Z",
     "iopub.status.busy": "2025-08-05T07:28:19.166949Z",
     "iopub.status.idle": "2025-08-05T07:28:19.171138Z",
     "shell.execute_reply": "2025-08-05T07:28:19.170638Z",
     "shell.execute_reply.started": "2025-08-05T07:28:19.167208Z"
    },
    "tags": []
   },
   "outputs": [],
   "source": [
    "criterion = nn.CrossEntropyLoss()\n",
    "optimizer = optim.AdamW(model.parameters(), lr=LEARNING_RATE, weight_decay=WEIGHT_DECAY)\n",
    "total_steps = len(train_dataloader) * NUM_EPOCHS\n",
    "scheduler = get_linear_schedule_with_warmup(optimizer, num_warmup_steps=int(0.1 * total_steps), num_training_steps=total_steps)"
   ]
  },
  {
   "cell_type": "code",
   "execution_count": 5,
   "id": "4026d4cc",
   "metadata": {},
   "outputs": [
    {
     "data": {
      "text/plain": [
       "0.25029999999999997"
      ]
     },
     "execution_count": 5,
     "metadata": {},
     "output_type": "execute_result"
    }
   ],
   "source": [
    "(1.3506 - 1.1003)"
   ]
  },
  {
   "cell_type": "code",
   "execution_count": 16,
   "id": "f89c81f4-8fcf-4677-9d03-d95704269ab5",
   "metadata": {
    "execution": {
     "iopub.execute_input": "2025-08-05T07:28:20.107216Z",
     "iopub.status.busy": "2025-08-05T07:28:20.106745Z",
     "iopub.status.idle": "2025-08-05T07:59:43.454785Z",
     "shell.execute_reply": "2025-08-05T07:59:43.454357Z",
     "shell.execute_reply.started": "2025-08-05T07:28:20.107193Z"
    },
    "tags": []
   },
   "outputs": [
    {
     "name": "stderr",
     "output_type": "stream",
     "text": [
      "Training Epoch 1: 100%|██████████| 628/628 [09:32<00:00,  1.10it/s, loss=0.321] \n",
      "                                                                                \r"
     ]
    },
    {
     "name": "stdout",
     "output_type": "stream",
     "text": [
      "Epoch 1/3\n",
      "  Train Loss: 0.5832\n",
      "  Val Loss: 0.2436\n",
      "  Val Acc: 0.9185\n",
      "  Val Macro F1: 0.5929\n",
      "--------------------------------------------------\n",
      "✅ Best model saved to ./model_path/best_model_macro_f1.pth with Val Macro F1: 0.5929\n"
     ]
    },
    {
     "name": "stderr",
     "output_type": "stream",
     "text": [
      "Training Epoch 2: 100%|██████████| 628/628 [09:32<00:00,  1.10it/s, loss=0.347] \n",
      "                                                                                \r"
     ]
    },
    {
     "name": "stdout",
     "output_type": "stream",
     "text": [
      "Epoch 2/3\n",
      "  Train Loss: 0.1916\n",
      "  Val Loss: 0.2107\n",
      "  Val Acc: 0.9263\n",
      "  Val Macro F1: 0.6427\n",
      "--------------------------------------------------\n",
      "✅ Best model saved to ./model_path/best_model_macro_f1.pth with Val Macro F1: 0.6427\n"
     ]
    },
    {
     "name": "stderr",
     "output_type": "stream",
     "text": [
      "Training Epoch 3: 100%|██████████| 628/628 [09:32<00:00,  1.10it/s, loss=0.0969] \n",
      "                                                                                \r"
     ]
    },
    {
     "name": "stdout",
     "output_type": "stream",
     "text": [
      "Epoch 3/3\n",
      "  Train Loss: 0.1321\n",
      "  Val Loss: 0.2094\n",
      "  Val Acc: 0.9313\n",
      "  Val Macro F1: 0.6577\n",
      "--------------------------------------------------\n",
      "✅ Best model saved to ./model_path/best_model_macro_f1.pth with Val Macro F1: 0.6577\n",
      "✅ Training completed. Best Macro F1: 0.6577\n"
     ]
    }
   ],
   "source": [
    "train_model(model, train_dataloader, val_dataloader, criterion, optimizer, scheduler, device, num_epochs=NUM_EPOCHS)"
   ]
  },
  {
   "cell_type": "code",
   "execution_count": 17,
   "id": "506d5235-5ddd-448c-92b8-ec3f1adfe585",
   "metadata": {
    "execution": {
     "iopub.execute_input": "2025-08-05T08:00:29.566178Z",
     "iopub.status.busy": "2025-08-05T08:00:29.565885Z",
     "iopub.status.idle": "2025-08-05T08:00:29.570330Z",
     "shell.execute_reply": "2025-08-05T08:00:29.569897Z",
     "shell.execute_reply.started": "2025-08-05T08:00:29.566161Z"
    }
   },
   "outputs": [],
   "source": [
    "def predict_single_text(model, text, tokenizer, label_to_id, id_to_label, device, max_length=512):\n",
    "    \"\"\"\n",
    "    对单条文本进行预测\n",
    "\n",
    "    Args:\n",
    "        model: 训练好的模型\n",
    "        text (str): 要预测的文本\n",
    "        tokenizer: BERT tokenizer\n",
    "        label_to_id (dict): 标签到ID的映射（用于获取 num_labels）\n",
    "        id_to_label (dict): ID到标签名称的映射\n",
    "        device: 设备 (cpu/cuda)\n",
    "        max_length (int): 最大序列长度\n",
    "\n",
    "    Returns:\n",
    "        predicted_label (str): 预测的类别名称\n",
    "        confidence (float): 预测的最大概率值（可选）\n",
    "    \"\"\"\n",
    "    model.eval()  # 确保模型处于评估模式\n",
    "\n",
    "    # 1. 分词并编码\n",
    "    encoding = tokenizer(\n",
    "        text,\n",
    "        truncation=True,\n",
    "        padding='max_length',\n",
    "        max_length=max_length,\n",
    "        return_tensors='pt'  # 返回 PyTorch 张量\n",
    "    )\n",
    "\n",
    "    # 2. 将输入移动到设备\n",
    "    input_ids = encoding['input_ids'].to(device)\n",
    "    attention_mask = encoding['attention_mask'].to(device)\n",
    "    token_type_ids = encoding['token_type_ids'].to(device)\n",
    "\n",
    "    # 3. 前向传播，得到 logits\n",
    "    with torch.no_grad():\n",
    "        logits = model(input_ids, attention_mask, token_type_ids)\n",
    "\n",
    "    # 4. 获取预测结果\n",
    "    probabilities = F.softmax(logits, dim=1)\n",
    "    predicted_id = torch.argmax(logits, dim=1).item()\n",
    "\n",
    "    # 5. 转换为原始标签名称\n",
    "    predicted_label = id_to_label[predicted_id]\n",
    "\n",
    "    return predicted_label"
   ]
  },
  {
   "cell_type": "code",
   "execution_count": 31,
   "id": "fadfed8a-a86e-48e9-bd72-efb42ac3a1aa",
   "metadata": {
    "execution": {
     "iopub.execute_input": "2025-08-05T08:06:55.705102Z",
     "iopub.status.busy": "2025-08-05T08:06:55.704820Z",
     "iopub.status.idle": "2025-08-05T08:06:55.719665Z",
     "shell.execute_reply": "2025-08-05T08:06:55.719282Z",
     "shell.execute_reply.started": "2025-08-05T08:06:55.705087Z"
    },
    "tags": []
   },
   "outputs": [],
   "source": [
    "data_test = pd.read_csv('test_text.csv')"
   ]
  },
  {
   "cell_type": "code",
   "execution_count": 32,
   "id": "cb288da6-00f0-409c-a230-7e9163853309",
   "metadata": {
    "ExecutionIndicator": {
     "show": false
    },
    "execution": {
     "iopub.execute_input": "2025-08-05T08:07:09.486612Z",
     "iopub.status.busy": "2025-08-05T08:07:09.486289Z",
     "iopub.status.idle": "2025-08-05T08:08:29.501621Z",
     "shell.execute_reply": "2025-08-05T08:08:29.501230Z",
     "shell.execute_reply.started": "2025-08-05T08:07:09.486587Z"
    },
    "tags": []
   },
   "outputs": [
    {
     "name": "stderr",
     "output_type": "stream",
     "text": [
      "100%|██████████| 6276/6276 [01:19<00:00, 78.75it/s]\n"
     ]
    }
   ],
   "source": [
    "loaded_model = BertForSequenceClassification(bert_model_name=MODEL_NAME,num_labels=NUM_LABELS).to(device)\n",
    "loaded_model.load_state_dict(torch.load('./model_path/best_model_macro_f1.pth', map_location=device))\n",
    "loaded_model.to(device)\n",
    "loaded_model.eval()\n",
    "\n",
    "# ------------------- 逐条预测新数据 -------------------\n",
    "data_test_text = data_test['文本'].to_list()\n",
    "pred_list = []\n",
    "for text in tqdm(data_test_text):\n",
    "    pred_label = predict_single_text(\n",
    "        model=loaded_model,\n",
    "        text=text,\n",
    "        tokenizer=tokenizer,\n",
    "        label_to_id=label_to_id,\n",
    "        id_to_label=id_to_label,\n",
    "        device=device,\n",
    "        max_length=MAX_LENGTH\n",
    "    )\n",
    "    pred_list.append(pred_label)\n",
    "\n",
    "submit = pd.read_csv('example.csv')\n",
    "submit['类别'] = pred_list\n",
    "submit.to_csv('submit.csv')"
   ]
  },
  {
   "cell_type": "code",
   "execution_count": null,
   "id": "822efbbb",
   "metadata": {},
   "outputs": [],
   "source": []
  },
  {
   "cell_type": "code",
   "execution_count": null,
   "id": "49d64959",
   "metadata": {},
   "outputs": [],
   "source": []
  }
 ],
 "metadata": {
  "kernelspec": {
   "display_name": "Python 3 (ipykernel)",
   "language": "python",
   "name": "python3"
  },
  "language_info": {
   "codemirror_mode": {
    "name": "ipython",
    "version": 3
   },
   "file_extension": ".py",
   "mimetype": "text/x-python",
   "name": "python",
   "nbconvert_exporter": "python",
   "pygments_lexer": "ipython3",
   "version": "0.0.0"
  }
 },
 "nbformat": 4,
 "nbformat_minor": 5
}
