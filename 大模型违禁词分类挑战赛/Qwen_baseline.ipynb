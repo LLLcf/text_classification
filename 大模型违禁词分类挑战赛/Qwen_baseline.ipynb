{
 "cells": [
  {
   "cell_type": "code",
   "execution_count": 1,
   "id": "cbd4f2b8-1ce9-4602-b46f-f1796c87eca5",
   "metadata": {},
   "outputs": [
    {
     "name": "stderr",
     "output_type": "stream",
     "text": [
      "/root/miniconda/envs/llm_env/lib/python3.10/site-packages/tqdm/auto.py:21: TqdmWarning: IProgress not found. Please update jupyter and ipywidgets. See https://ipywidgets.readthedocs.io/en/stable/user_install.html\n",
      "  from .autonotebook import tqdm as notebook_tqdm\n"
     ]
    }
   ],
   "source": [
    "# Requires transformers>=4.51.0\n",
    "\n",
    "import torch\n",
    "import torch.nn.functional as F\n",
    "\n",
    "from torch import Tensor\n",
    "from transformers import AutoTokenizer, AutoModel"
   ]
  },
  {
   "cell_type": "code",
   "execution_count": 2,
   "id": "c67c5fa8-2897-4214-a427-2ccb9d212024",
   "metadata": {},
   "outputs": [],
   "source": [
    "def last_token_pool(last_hidden_states: Tensor,\n",
    "                 attention_mask: Tensor) -> Tensor:\n",
    "    left_padding = (attention_mask[:, -1].sum() == attention_mask.shape[0])\n",
    "    if left_padding:\n",
    "        return last_hidden_states[:, -1]\n",
    "    else:\n",
    "        sequence_lengths = attention_mask.sum(dim=1) - 1\n",
    "        batch_size = last_hidden_states.shape[0]\n",
    "        return last_hidden_states[torch.arange(batch_size, device=last_hidden_states.device), sequence_lengths]\n",
    "\n",
    "\n",
    "def get_detailed_instruct(task_description: str, query: str) -> str:\n",
    "    return f'Instruct: {task_description}\\nQuery:{query}'"
   ]
  },
  {
   "cell_type": "code",
   "execution_count": 3,
   "id": "2136fc88-edc1-4220-b850-b8a49da1a0e3",
   "metadata": {},
   "outputs": [
    {
     "name": "stdout",
     "output_type": "stream",
     "text": [
      "使用设备: cuda\n",
      "GPU名称: NVIDIA GeForce RTX 3090\n",
      "CUDA版本: 12.4\n"
     ]
    },
    {
     "name": "stderr",
     "output_type": "stream",
     "text": [
      "Loading checkpoint shards: 100%|██████████| 4/4 [03:34<00:00, 53.50s/it]\n"
     ]
    },
    {
     "name": "stdout",
     "output_type": "stream",
     "text": [
      "查询与文档的相似度分数:\n",
      "[[0.75, 0.07525634765625], [0.088134765625, 0.63232421875]]\n"
     ]
    }
   ],
   "source": [
    "import torch\n",
    "import torch.nn.functional as F\n",
    "from transformers import AutoTokenizer, AutoModel\n",
    "from torch import Tensor\n",
    "\n",
    "def last_token_pool(last_hidden_states: Tensor, attention_mask: Tensor) -> Tensor:\n",
    "    \"\"\"获取最后一个有效token的隐藏状态作为嵌入向量\"\"\"\n",
    "    left_padding = (attention_mask[:, -1].sum() == attention_mask.shape[0])\n",
    "    if left_padding:\n",
    "        return last_hidden_states[:, -1]\n",
    "    else:\n",
    "        # 计算每个序列的有效长度，取最后一个有效token\n",
    "        sequence_lengths = attention_mask.sum(dim=1) - 1\n",
    "        batch_size = last_hidden_states.shape[0]\n",
    "        return last_hidden_states[torch.arange(batch_size, device=last_hidden_states.device), sequence_lengths]\n",
    "\n",
    "\n",
    "def get_detailed_instruct(task_description: str, query: str) -> str:\n",
    "    \"\"\"构建带指令的查询文本\"\"\"\n",
    "    return f'Instruct: {task_description}\\nQuery:{query}'\n",
    "\n",
    "\n",
    "# 设备配置 - 自动选择可用GPU，否则使用CPU\n",
    "device = torch.device('cuda' if torch.cuda.is_available() else 'cpu')\n",
    "print(f\"使用设备: {device}\")\n",
    "if device.type == 'cuda':\n",
    "    print(f\"GPU名称: {torch.cuda.get_device_name(0)}\")\n",
    "    print(f\"CUDA版本: {torch.version.cuda}\")\n",
    "\n",
    "\n",
    "# 任务与文本数据\n",
    "task = 'Given a web search query, retrieve relevant passages that answer the query'\n",
    "\n",
    "# 带指令的查询\n",
    "queries = [\n",
    "    get_detailed_instruct(task, 'What is the capital of China?'),\n",
    "    get_detailed_instruct(task, 'Explain gravity')\n",
    "]\n",
    "\n",
    "# 文档（无需指令）\n",
    "documents = [\n",
    "    \"The capital of China is Beijing.\",\n",
    "    \"Gravity is a force that attracts two bodies towards each other. It gives weight to physical objects and is responsible for the movement of planets around the sun.\"\n",
    "]\n",
    "\n",
    "# 合并查询和文档作为输入\n",
    "input_texts = queries + documents\n",
    "\n",
    "\n",
    "# 加载分词器和模型（配置GPU加速）\n",
    "model_path = '/root/lanyun-fs/models/Qwen3-Embedding-8B'  # 模型路径\n",
    "tokenizer = AutoTokenizer.from_pretrained(model_path, padding_side='left')\n",
    "\n",
    "# 加载模型并配置GPU参数\n",
    "model = AutoModel.from_pretrained(\n",
    "    model_path,\n",
    "    torch_dtype=torch.float16,  # 使用半精度节省显存\n",
    "    device_map=\"auto\"  # 自动分配到可用设备\n",
    ")\n",
    "\n",
    "# 确保模型在正确设备上\n",
    "model = model.to(device)\n",
    "model.eval()  # 推理模式\n",
    "\n",
    "\n",
    "# 文本编码与嵌入计算\n",
    "max_length = 8192  # Qwen3-Embedding支持的最大长度\n",
    "\n",
    "# 分词处理\n",
    "batch_dict = tokenizer(\n",
    "    input_texts,\n",
    "    padding=True,\n",
    "    truncation=True,\n",
    "    max_length=max_length,\n",
    "    return_tensors=\"pt\"\n",
    ")\n",
    "\n",
    "# 将数据移至模型所在设备\n",
    "batch_dict = {k: v.to(device) for k, v in batch_dict.items()}\n",
    "\n",
    "# 计算嵌入（关闭梯度计算提高效率）\n",
    "with torch.no_grad():\n",
    "    outputs = model(** batch_dict)\n",
    "    # 池化获取最终嵌入向量\n",
    "    embeddings = last_token_pool(outputs.last_hidden_state, batch_dict['attention_mask'])\n",
    "    # 归一化嵌入向量\n",
    "    embeddings = F.normalize(embeddings, p=2, dim=1)\n",
    "\n",
    "\n",
    "# 计算查询与文档的相似度分数\n",
    "# 前2个是查询嵌入，后面是文档嵌入\n",
    "scores = (embeddings[:2] @ embeddings[2:].T)\n",
    "\n",
    "# 输出结果\n",
    "print(\"查询与文档的相似度分数:\")\n",
    "print(scores.tolist())"
   ]
  },
  {
   "cell_type": "code",
   "execution_count": 4,
   "id": "4c744fad-fb56-4d58-bbde-414a0a52e651",
   "metadata": {},
   "outputs": [
    {
     "data": {
      "text/plain": [
       "Qwen3Model(\n",
       "  (embed_tokens): Embedding(151665, 4096)\n",
       "  (layers): ModuleList(\n",
       "    (0-35): 36 x Qwen3DecoderLayer(\n",
       "      (self_attn): Qwen3Attention(\n",
       "        (q_proj): Linear(in_features=4096, out_features=4096, bias=False)\n",
       "        (k_proj): Linear(in_features=4096, out_features=1024, bias=False)\n",
       "        (v_proj): Linear(in_features=4096, out_features=1024, bias=False)\n",
       "        (o_proj): Linear(in_features=4096, out_features=4096, bias=False)\n",
       "        (q_norm): Qwen3RMSNorm((128,), eps=1e-06)\n",
       "        (k_norm): Qwen3RMSNorm((128,), eps=1e-06)\n",
       "      )\n",
       "      (mlp): Qwen3MLP(\n",
       "        (gate_proj): Linear(in_features=4096, out_features=12288, bias=False)\n",
       "        (up_proj): Linear(in_features=4096, out_features=12288, bias=False)\n",
       "        (down_proj): Linear(in_features=12288, out_features=4096, bias=False)\n",
       "        (act_fn): SiLU()\n",
       "      )\n",
       "      (input_layernorm): Qwen3RMSNorm((4096,), eps=1e-06)\n",
       "      (post_attention_layernorm): Qwen3RMSNorm((4096,), eps=1e-06)\n",
       "    )\n",
       "  )\n",
       "  (norm): Qwen3RMSNorm((4096,), eps=1e-06)\n",
       "  (rotary_emb): Qwen3RotaryEmbedding()\n",
       ")"
      ]
     },
     "execution_count": 4,
     "metadata": {},
     "output_type": "execute_result"
    }
   ],
   "source": [
    "model"
   ]
  },
  {
   "cell_type": "code",
   "execution_count": null,
   "id": "d07b5c9f-b2d8-420f-ad5a-997518572eae",
   "metadata": {},
   "outputs": [],
   "source": []
  }
 ],
 "metadata": {
  "kernelspec": {
   "display_name": "llm_env",
   "language": "python",
   "name": "llm_env"
  },
  "language_info": {
   "codemirror_mode": {
    "name": "ipython",
    "version": 3
   },
   "file_extension": ".py",
   "mimetype": "text/x-python",
   "name": "python",
   "nbconvert_exporter": "python",
   "pygments_lexer": "ipython3",
   "version": "3.10.18"
  }
 },
 "nbformat": 4,
 "nbformat_minor": 5
}
